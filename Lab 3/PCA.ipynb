{
 "cells": [
  {
   "cell_type": "code",
   "execution_count": 7,
   "id": "b9dd1e95",
   "metadata": {},
   "outputs": [],
   "source": [
    "import numpy as np\n",
    "import pandas as pd"
   ]
  },
  {
   "cell_type": "code",
   "execution_count": 8,
   "id": "19b7cc08",
   "metadata": {},
   "outputs": [],
   "source": [
    "# reading csv file\n",
    "dataset = pd.read_csv(r\"C:\\Users\\Gani\\Downloads\\vTargetBuyers.csv\")"
   ]
  },
  {
   "cell_type": "code",
   "execution_count": 9,
   "id": "8f39dc76",
   "metadata": {},
   "outputs": [],
   "source": [
    "# Binarization\n",
    "df_gender = pd.get_dummies(dataset[\"Gender\"])\n",
    "dataset['Gender'] = df_gender.cumsum(axis=1).ne(1).sum(axis=1)\n",
    "\n",
    "# Converting Binarization\n",
    "dataset['NumberCarsOwned'] = dataset['NumberCarsOwned'].apply(lambda x: 1 if x>=1 else 0)\n",
    "dataset['TotalChildren'] = dataset['TotalChildren'].apply(lambda x: 1 if x>=1 else 0)\n",
    "dataset['NumberChildrenAtHome'] = dataset['NumberChildrenAtHome'].apply(lambda x: 1 if x>=1 else 0)\n",
    "\n",
    "\n",
    "# One hot Encoding\n",
    "df_englishEducation = pd.get_dummies(dataset[\"EnglishEducation\"])\n",
    "dataset['EnglishEducation'] = df_englishEducation.cumsum(axis=1).ne(1).sum(axis=1)\n",
    "df_englishOccupation = pd.get_dummies(dataset[\"EnglishOccupation\"])\n",
    "dataset['EnglishOccupation'] = df_englishOccupation.cumsum(axis=1).ne(1).sum(axis=1)\n",
    "df_commuteDistance = pd.get_dummies(dataset[\"CommuteDistance\"])\n",
    "dataset['CommuteDistance'] = df_commuteDistance.cumsum(axis=1).ne(1).sum(axis=1)\n",
    "df_region = pd.get_dummies(dataset[\"Region\"])\n",
    "dataset['Region'] = df_region.cumsum(axis=1).ne(1).sum(axis=1)\n",
    "\n",
    "# Normalization\n",
    "dataset['YearlyIncome'] = (dataset['YearlyIncome'] - dataset['YearlyIncome'].min()) / (dataset['YearlyIncome'].max() - dataset['YearlyIncome'].min())    \n",
    "dataset['Age'] = (dataset['Age'] - dataset['Age'].min()) / (dataset['Age'].max() - dataset['Age'].min())   "
   ]
  },
  {
   "cell_type": "code",
   "execution_count": 10,
   "id": "3829ba66",
   "metadata": {},
   "outputs": [
    {
     "data": {
      "text/html": [
       "<div>\n",
       "<style scoped>\n",
       "    .dataframe tbody tr th:only-of-type {\n",
       "        vertical-align: middle;\n",
       "    }\n",
       "\n",
       "    .dataframe tbody tr th {\n",
       "        vertical-align: top;\n",
       "    }\n",
       "\n",
       "    .dataframe thead th {\n",
       "        text-align: right;\n",
       "    }\n",
       "</style>\n",
       "<table border=\"1\" class=\"dataframe\">\n",
       "  <thead>\n",
       "    <tr style=\"text-align: right;\">\n",
       "      <th></th>\n",
       "      <th>GeographyKey</th>\n",
       "      <th>Gender</th>\n",
       "      <th>YearlyIncome</th>\n",
       "      <th>TotalChildren</th>\n",
       "      <th>NumberChildrenAtHome</th>\n",
       "      <th>EnglishEducation</th>\n",
       "      <th>EnglishOccupation</th>\n",
       "      <th>HouseOwnerFlag</th>\n",
       "      <th>NumberCarsOwned</th>\n",
       "      <th>CommuteDistance</th>\n",
       "      <th>Region</th>\n",
       "      <th>Age</th>\n",
       "      <th>BikeBuyer</th>\n",
       "    </tr>\n",
       "  </thead>\n",
       "  <tbody>\n",
       "    <tr>\n",
       "      <th>0</th>\n",
       "      <td>26</td>\n",
       "      <td>1</td>\n",
       "      <td>0.5000</td>\n",
       "      <td>1</td>\n",
       "      <td>0</td>\n",
       "      <td>0</td>\n",
       "      <td>3</td>\n",
       "      <td>1</td>\n",
       "      <td>0</td>\n",
       "      <td>1</td>\n",
       "      <td>2</td>\n",
       "      <td>0.211268</td>\n",
       "      <td>1</td>\n",
       "    </tr>\n",
       "    <tr>\n",
       "      <th>1</th>\n",
       "      <td>37</td>\n",
       "      <td>1</td>\n",
       "      <td>0.3125</td>\n",
       "      <td>1</td>\n",
       "      <td>1</td>\n",
       "      <td>0</td>\n",
       "      <td>3</td>\n",
       "      <td>0</td>\n",
       "      <td>1</td>\n",
       "      <td>0</td>\n",
       "      <td>2</td>\n",
       "      <td>0.225352</td>\n",
       "      <td>1</td>\n",
       "    </tr>\n",
       "    <tr>\n",
       "      <th>2</th>\n",
       "      <td>31</td>\n",
       "      <td>1</td>\n",
       "      <td>0.3125</td>\n",
       "      <td>1</td>\n",
       "      <td>1</td>\n",
       "      <td>0</td>\n",
       "      <td>3</td>\n",
       "      <td>1</td>\n",
       "      <td>1</td>\n",
       "      <td>3</td>\n",
       "      <td>2</td>\n",
       "      <td>0.225352</td>\n",
       "      <td>1</td>\n",
       "    </tr>\n",
       "    <tr>\n",
       "      <th>3</th>\n",
       "      <td>11</td>\n",
       "      <td>0</td>\n",
       "      <td>0.3750</td>\n",
       "      <td>0</td>\n",
       "      <td>0</td>\n",
       "      <td>0</td>\n",
       "      <td>3</td>\n",
       "      <td>0</td>\n",
       "      <td>1</td>\n",
       "      <td>4</td>\n",
       "      <td>2</td>\n",
       "      <td>0.183099</td>\n",
       "      <td>1</td>\n",
       "    </tr>\n",
       "    <tr>\n",
       "      <th>4</th>\n",
       "      <td>19</td>\n",
       "      <td>0</td>\n",
       "      <td>0.4375</td>\n",
       "      <td>1</td>\n",
       "      <td>1</td>\n",
       "      <td>0</td>\n",
       "      <td>3</td>\n",
       "      <td>1</td>\n",
       "      <td>1</td>\n",
       "      <td>1</td>\n",
       "      <td>2</td>\n",
       "      <td>0.183099</td>\n",
       "      <td>1</td>\n",
       "    </tr>\n",
       "  </tbody>\n",
       "</table>\n",
       "</div>"
      ],
      "text/plain": [
       "   GeographyKey  Gender  YearlyIncome  TotalChildren  NumberChildrenAtHome  \\\n",
       "0            26       1        0.5000              1                     0   \n",
       "1            37       1        0.3125              1                     1   \n",
       "2            31       1        0.3125              1                     1   \n",
       "3            11       0        0.3750              0                     0   \n",
       "4            19       0        0.4375              1                     1   \n",
       "\n",
       "   EnglishEducation  EnglishOccupation  HouseOwnerFlag  NumberCarsOwned  \\\n",
       "0                 0                  3               1                0   \n",
       "1                 0                  3               0                1   \n",
       "2                 0                  3               1                1   \n",
       "3                 0                  3               0                1   \n",
       "4                 0                  3               1                1   \n",
       "\n",
       "   CommuteDistance  Region       Age  BikeBuyer  \n",
       "0                1       2  0.211268          1  \n",
       "1                0       2  0.225352          1  \n",
       "2                3       2  0.225352          1  \n",
       "3                4       2  0.183099          1  \n",
       "4                1       2  0.183099          1  "
      ]
     },
     "execution_count": 10,
     "metadata": {},
     "output_type": "execute_result"
    }
   ],
   "source": [
    "dataset.head()"
   ]
  },
  {
   "cell_type": "code",
   "execution_count": 26,
   "id": "40f2e284",
   "metadata": {},
   "outputs": [],
   "source": [
    "X = dataset.drop('BikeBuyer', axis = 1)\n",
    "y = dataset['BikeBuyer']"
   ]
  },
  {
   "cell_type": "code",
   "execution_count": 27,
   "id": "904cfd50",
   "metadata": {},
   "outputs": [],
   "source": [
    "# Splitting the dataset into the Training set and Test set\n",
    "from sklearn.model_selection import train_test_split\n",
    "\n",
    "X_train, X_test, y_train, y_test = train_test_split(X, y, test_size=0.2, random_state=0)"
   ]
  },
  {
   "cell_type": "code",
   "execution_count": 28,
   "id": "219eddfc",
   "metadata": {},
   "outputs": [],
   "source": [
    "from sklearn.preprocessing import StandardScaler\n",
    "\n",
    "sc = StandardScaler()\n",
    "X_train = sc.fit_transform(X_train)\n",
    "X_test = sc.transform(X_test)"
   ]
  },
  {
   "cell_type": "code",
   "execution_count": 29,
   "id": "ddfca259",
   "metadata": {},
   "outputs": [],
   "source": [
    "from sklearn.decomposition import PCA\n",
    "\n",
    "pca = PCA()\n",
    "X_train = pca.fit_transform(X_train)\n",
    "X_test = pca.transform(X_test)"
   ]
  },
  {
   "cell_type": "code",
   "execution_count": 30,
   "id": "660f7ea0",
   "metadata": {},
   "outputs": [],
   "source": [
    "from sklearn.ensemble import RandomForestClassifier\n",
    "\n",
    "classifier = RandomForestClassifier(max_depth=2, random_state=0)\n",
    "classifier.fit(X_train, y_train)\n",
    "\n",
    "# Predicting the Test set results\n",
    "y_pred = classifier.predict(X_test)"
   ]
  },
  {
   "cell_type": "code",
   "execution_count": 31,
   "id": "329deb55",
   "metadata": {},
   "outputs": [
    {
     "name": "stdout",
     "output_type": "stream",
     "text": [
      "[[1314  547]\n",
      " [ 857  979]]\n",
      "Accuracy 0.6202326210440898\n"
     ]
    }
   ],
   "source": [
    "from sklearn.metrics import confusion_matrix\n",
    "from sklearn.metrics import accuracy_score\n",
    "\n",
    "cm = confusion_matrix(y_test, y_pred)\n",
    "print(cm)\n",
    "res = accuracy_score(y_test, y_pred) \n",
    "print(\"Accuracy\", res)"
   ]
  },
  {
   "cell_type": "code",
   "execution_count": null,
   "id": "215dc44a",
   "metadata": {},
   "outputs": [],
   "source": []
  }
 ],
 "metadata": {
  "kernelspec": {
   "display_name": "Python 3 (ipykernel)",
   "language": "python",
   "name": "python3"
  },
  "language_info": {
   "codemirror_mode": {
    "name": "ipython",
    "version": 3
   },
   "file_extension": ".py",
   "mimetype": "text/x-python",
   "name": "python",
   "nbconvert_exporter": "python",
   "pygments_lexer": "ipython3",
   "version": "3.9.12"
  }
 },
 "nbformat": 4,
 "nbformat_minor": 5
}
